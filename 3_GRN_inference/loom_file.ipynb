{
 "cells": [
  {
   "cell_type": "code",
   "execution_count": 1,
   "id": "b7c8bf11",
   "metadata": {},
   "outputs": [
    {
     "name": "stdout",
     "output_type": "stream",
     "text": [
      "# conda environments:\r\n",
      "#\r\n",
      "                         /Users/titai/Library/r-miniconda\r\n",
      "                         /Users/titai/Library/r-miniconda/envs/r-reticulate\r\n",
      "base                     /Users/titai/miniconda3\r\n",
      "annovar                  /Users/titai/miniconda3/envs/annovar\r\n",
      "bmi7320                  /Users/titai/miniconda3/envs/bmi7320\r\n",
      "bs                       /Users/titai/miniconda3/envs/bs\r\n",
      "celloracle_py3.9.16      /Users/titai/miniconda3/envs/celloracle_py3.9.16\r\n",
      "pcpp                     /Users/titai/miniconda3/envs/pcpp\r\n",
      "pyscenic              *  /Users/titai/miniconda3/envs/pyscenic\r\n",
      "scvi                     /Users/titai/miniconda3/envs/scvi\r\n",
      "seacells                 /Users/titai/miniconda3/envs/seacells\r\n",
      "tf                       /Users/titai/miniconda3/envs/tf\r\n",
      "\r\n"
     ]
    }
   ],
   "source": [
    "!conda info --envs"
   ]
  },
  {
   "cell_type": "code",
   "execution_count": 2,
   "id": "a1d0a358",
   "metadata": {},
   "outputs": [],
   "source": [
    "import os\n",
    "import pandas as pd\n",
    "import numpy as np\n",
    "import scanpy as sc\n",
    "import pyscenic\n",
    "import loompy as lp\n",
    "\n",
    "from MulticoreTSNE import MulticoreTSNE as TSNE\n",
    "\n",
    "import seaborn as sns\n",
    "import matplotlib.pyplot as plt"
   ]
  },
  {
   "cell_type": "code",
   "execution_count": 3,
   "id": "55fe60f5",
   "metadata": {},
   "outputs": [
    {
     "name": "stdout",
     "output_type": "stream",
     "text": [
      "hgsoc_integrated_only.h5ad    hgsoc_metacells_20230829.h5ad\r\n",
      "hgsoc_metacells.h5ad          hgsoc_with_SEACell_ID.h5ad\r\n"
     ]
    }
   ],
   "source": [
    "!ls *.h5ad"
   ]
  },
  {
   "cell_type": "code",
   "execution_count": 4,
   "id": "28d59cc4",
   "metadata": {},
   "outputs": [],
   "source": [
    "#load the data\n",
    "adata = sc.read_h5ad(\"hgsoc_metacells.h5ad\")"
   ]
  },
  {
   "cell_type": "code",
   "execution_count": 5,
   "id": "22a89d63",
   "metadata": {},
   "outputs": [
    {
     "data": {
      "text/plain": [
       "AnnData object with n_obs × n_vars = 1211 × 35019\n",
       "    obs: 'GSE_ID', 'GSM_ID', 'Treatment Status', 'Clinical stage', 'Clinical stage (Major)', 'cell_type'\n",
       "    var: 'highly_variable', 'means', 'dispersions', 'dispersions_norm', 'highly_variable_nbatches', 'highly_variable_intersection'\n",
       "    uns: 'GSE_ID_colors', 'Treatment Status_colors', 'cell_type_colors', 'hvg', 'log1p', 'neighbors', 'pca', 'umap'\n",
       "    obsm: 'X_pca', 'X_pca_harmony', 'X_umap'\n",
       "    varm: 'PCs'\n",
       "    layers: 'raw'\n",
       "    obsp: 'connectivities', 'distances'"
      ]
     },
     "execution_count": 5,
     "metadata": {},
     "output_type": "execute_result"
    }
   ],
   "source": [
    "adata"
   ]
  },
  {
   "cell_type": "code",
   "execution_count": 6,
   "id": "3e7e34be",
   "metadata": {},
   "outputs": [],
   "source": [
    "sc.pp.filter_genes(adata, min_cells=(len(adata.obs)/2))"
   ]
  },
  {
   "cell_type": "code",
   "execution_count": 7,
   "id": "0fcc7263",
   "metadata": {},
   "outputs": [
    {
     "data": {
      "text/plain": [
       "AnnData object with n_obs × n_vars = 1211 × 10504\n",
       "    obs: 'GSE_ID', 'GSM_ID', 'Treatment Status', 'Clinical stage', 'Clinical stage (Major)', 'cell_type'\n",
       "    var: 'highly_variable', 'means', 'dispersions', 'dispersions_norm', 'highly_variable_nbatches', 'highly_variable_intersection', 'n_cells'\n",
       "    uns: 'GSE_ID_colors', 'Treatment Status_colors', 'cell_type_colors', 'hvg', 'log1p', 'neighbors', 'pca', 'umap'\n",
       "    obsm: 'X_pca', 'X_pca_harmony', 'X_umap'\n",
       "    varm: 'PCs'\n",
       "    layers: 'raw'\n",
       "    obsp: 'connectivities', 'distances'"
      ]
     },
     "execution_count": 7,
     "metadata": {},
     "output_type": "execute_result"
    }
   ],
   "source": [
    "adata"
   ]
  },
  {
   "cell_type": "code",
   "execution_count": 8,
   "id": "2702a699",
   "metadata": {},
   "outputs": [
    {
     "data": {
      "text/plain": [
       "<1211x10504 sparse matrix of type '<class 'numpy.float64'>'\n",
       "\twith 10638971 stored elements in Compressed Sparse Row format>"
      ]
     },
     "execution_count": 8,
     "metadata": {},
     "output_type": "execute_result"
    }
   ],
   "source": [
    "adata.X"
   ]
  },
  {
   "cell_type": "code",
   "execution_count": 9,
   "id": "8e9f10df",
   "metadata": {},
   "outputs": [
    {
     "data": {
      "text/plain": [
       "<1211x10504 sparse matrix of type '<class 'numpy.float64'>'\n",
       "\twith 10638971 stored elements in Compressed Sparse Row format>"
      ]
     },
     "execution_count": 9,
     "metadata": {},
     "output_type": "execute_result"
    }
   ],
   "source": [
    "adata.layers[\"raw\"]"
   ]
  },
  {
   "cell_type": "code",
   "execution_count": 10,
   "id": "ae48f537",
   "metadata": {},
   "outputs": [
    {
     "name": "stdout",
     "output_type": "stream",
     "text": [
      "12.09535074058112\n",
      "447900.0\n"
     ]
    }
   ],
   "source": [
    "print(np.amax(adata.X.toarray()))\n",
    "print(np.amax(adata.layers[\"raw\"].toarray()))"
   ]
  },
  {
   "cell_type": "code",
   "execution_count": 11,
   "id": "6100e145",
   "metadata": {},
   "outputs": [
    {
     "data": {
      "text/plain": [
       "['Control', 'Before chemotherapy', 'After chemotherapy']\n",
       "Categories (3, object): ['After chemotherapy', 'Before chemotherapy', 'Control']"
      ]
     },
     "execution_count": 11,
     "metadata": {},
     "output_type": "execute_result"
    }
   ],
   "source": [
    "adata.obs['Treatment Status'].unique()"
   ]
  },
  {
   "cell_type": "code",
   "execution_count": 12,
   "id": "f1d25f26",
   "metadata": {},
   "outputs": [],
   "source": [
    "#Create a loom file\n",
    "row_attrs = {\n",
    "\"Gene\": np.array(adata.var_names),\n",
    "}\n",
    "col_attrs = {\n",
    "\"CellID\": np.array(adata.obs_names),\n",
    "\"nGene\": np.array(np.sum(adata.layers[\"raw\"].transpose()>0, axis=0)).flatten(), \n",
    "\"nUMI\": np.array(np.sum(adata.layers[\"raw\"].transpose(),axis=0)).flatten(),\n",
    "}\n",
    "lp.create(\"hgsoc_metacells_with_control_20230927.loom\",adata.layers[\"raw\"].transpose(),row_attrs, col_attrs)  ### change the .loom file name"
   ]
  }
 ],
 "metadata": {
  "kernelspec": {
   "display_name": "Python 3 (ipykernel)",
   "language": "python",
   "name": "python3"
  },
  "language_info": {
   "codemirror_mode": {
    "name": "ipython",
    "version": 3
   },
   "file_extension": ".py",
   "mimetype": "text/x-python",
   "name": "python",
   "nbconvert_exporter": "python",
   "pygments_lexer": "ipython3",
   "version": "3.10.0"
  }
 },
 "nbformat": 4,
 "nbformat_minor": 5
}
