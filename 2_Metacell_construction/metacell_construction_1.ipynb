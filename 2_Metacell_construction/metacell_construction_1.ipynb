{
 "cells": [
  {
   "cell_type": "code",
   "execution_count": null,
   "id": "29876876",
   "metadata": {},
   "outputs": [],
   "source": [
    "!conda info --envs"
   ]
  },
  {
   "cell_type": "code",
   "execution_count": null,
   "id": "581be9b1",
   "metadata": {},
   "outputs": [],
   "source": [
    "import scanpy as sc\n",
    "import numpy as np\n",
    "import pandas as pd \n",
    "import SEACells"
   ]
  },
  {
   "cell_type": "code",
   "execution_count": null,
   "id": "f22a8eea",
   "metadata": {},
   "outputs": [],
   "source": [
    "files = !ls separated_data/"
   ]
  },
  {
   "cell_type": "code",
   "execution_count": null,
   "id": "2548cd3d",
   "metadata": {},
   "outputs": [],
   "source": [
    "files"
   ]
  },
  {
   "cell_type": "code",
   "execution_count": null,
   "id": "519882f8",
   "metadata": {},
   "outputs": [],
   "source": [
    "for x in files:\n",
    "    ad = sc.read_h5ad(f\"separated_data/{x}\")\n",
    "    # Copy the counts to \".raw\" attribute of the anndata since it is necessary for downstream analysis\n",
    "    # This step should be performed after filtering \n",
    "    raw_ad = sc.AnnData(ad.X)\n",
    "    raw_ad.obs_names, raw_ad.var_names = ad.obs_names, ad.var_names\n",
    "    ad.raw = raw_ad\n",
    "    \n",
    "    # Normalize cells, log transform and compute highly variable genes\n",
    "    sc.pp.normalize_per_cell(ad)\n",
    "    sc.pp.log1p(ad)\n",
    "    sc.pp.highly_variable_genes(ad, n_top_genes=1500)\n",
    "    \n",
    "    # Compute principal components - \n",
    "    # Here we use 50 components. This number may also be selected by examining variance explaint\n",
    "    sc.tl.pca(ad, n_comps=50, use_highly_variable=True)\n",
    "    \n",
    "    sc.pp.neighbors(ad, n_neighbors=10, n_pcs=40)\n",
    "    sc.tl.umap(ad)\n",
    "    \n",
    "    ## User defined parameters\n",
    "    ## Core parameters \n",
    "    n_SEACells = int(round(len(ad.obs)/75))\n",
    "    build_kernel_on = 'X_pca' # key in ad.obsm to use for computing metacells\n",
    "                              # This would be replaced by 'X_svd' for ATAC data\n",
    "\n",
    "    ## Additional parameters\n",
    "    n_waypoint_eigs = 10 # Number of eigenvalues to consider when initializing metacells\n",
    "    \n",
    "    model = SEACells.core.SEACells(ad, \n",
    "                  build_kernel_on=build_kernel_on, \n",
    "                  n_SEACells=n_SEACells, \n",
    "                  n_waypoint_eigs=n_waypoint_eigs,\n",
    "                  convergence_epsilon = 1e-5)\n",
    "    \n",
    "    model.construct_kernel_matrix()\n",
    "    M = model.kernel_matrix\n",
    "    \n",
    "    # Initialize archetypes\n",
    "    model.initialize_archetypes()\n",
    "    \n",
    "    model.fit(min_iter=10, max_iter=100)\n",
    "    \n",
    "    ad.obs[\"GSM_ID_string\"] = ad.obs[\"GSM_ID\"].astype(str)\n",
    "    ad.obs[\"SEACell_string\"] = ad.obs[\"SEACell\"].astype(str)\n",
    "    ad.obs[\"SEACell_ID\"] = ad.obs[\"SEACell_string\"]+\"_\"+ad.obs[\"GSM_ID_string\"]\n",
    "    \n",
    "    ad.write_h5ad(f\"data_with_seacell_id/{x[:-9]}_seacell_id.h5ad\")"
   ]
  },
  {
   "cell_type": "code",
   "execution_count": null,
   "id": "4374734e",
   "metadata": {},
   "outputs": [],
   "source": [
    "!ls data_with_seacell_id/"
   ]
  },
  {
   "cell_type": "code",
   "execution_count": null,
   "id": "3b863161",
   "metadata": {},
   "outputs": [],
   "source": [
    "out = []"
   ]
  },
  {
   "cell_type": "code",
   "execution_count": null,
   "id": "16dbaeaa",
   "metadata": {},
   "outputs": [],
   "source": [
    "data = !ls data_with_seacell_id/"
   ]
  },
  {
   "cell_type": "code",
   "execution_count": null,
   "id": "7f82d086",
   "metadata": {},
   "outputs": [],
   "source": [
    "data"
   ]
  },
  {
   "cell_type": "code",
   "execution_count": null,
   "id": "0817b9a5",
   "metadata": {},
   "outputs": [],
   "source": [
    "for x in data:\n",
    "    adata = sc.read_h5ad(f\"data_with_seacell_id/{x}\")\n",
    "    out.append(adata)"
   ]
  },
  {
   "cell_type": "code",
   "execution_count": null,
   "id": "4a009cdc",
   "metadata": {},
   "outputs": [],
   "source": [
    "len(out)"
   ]
  },
  {
   "cell_type": "code",
   "execution_count": null,
   "id": "e837aaaf",
   "metadata": {},
   "outputs": [],
   "source": [
    "out"
   ]
  },
  {
   "cell_type": "code",
   "execution_count": null,
   "id": "3b2998be",
   "metadata": {},
   "outputs": [],
   "source": [
    "adata = sc.concat(out, join=\"outer\")"
   ]
  },
  {
   "cell_type": "code",
   "execution_count": null,
   "id": "9268218d",
   "metadata": {},
   "outputs": [],
   "source": [
    "adata"
   ]
  },
  {
   "cell_type": "code",
   "execution_count": null,
   "id": "72a7eb8e",
   "metadata": {},
   "outputs": [],
   "source": [
    "adata.write_h5ad(\"hgsoc_with_SEACell_ID.h5ad\")"
   ]
  }
 ],
 "metadata": {
  "kernelspec": {
   "display_name": "Python 3 (ipykernel)",
   "language": "python",
   "name": "python3"
  },
  "language_info": {
   "codemirror_mode": {
    "name": "ipython",
    "version": 3
   },
   "file_extension": ".py",
   "mimetype": "text/x-python",
   "name": "python",
   "nbconvert_exporter": "python",
   "pygments_lexer": "ipython3",
   "version": "3.10.0"
  }
 },
 "nbformat": 4,
 "nbformat_minor": 5
}
