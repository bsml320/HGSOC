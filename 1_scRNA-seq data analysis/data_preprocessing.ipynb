{
 "cells": [
  {
   "cell_type": "code",
   "execution_count": null,
   "id": "8ba188f0",
   "metadata": {},
   "outputs": [],
   "source": [
    "!conda info --envs"
   ]
  },
  {
   "cell_type": "code",
   "execution_count": null,
   "id": "356f8787",
   "metadata": {},
   "outputs": [],
   "source": [
    "!pwd"
   ]
  },
  {
   "cell_type": "code",
   "execution_count": null,
   "id": "d3d63958",
   "metadata": {},
   "outputs": [],
   "source": [
    "!ls"
   ]
  },
  {
   "cell_type": "code",
   "execution_count": null,
   "id": "c1519309",
   "metadata": {},
   "outputs": [],
   "source": [
    "!ls h5ad_data/"
   ]
  },
  {
   "cell_type": "code",
   "execution_count": null,
   "id": "0058e26a",
   "metadata": {},
   "outputs": [],
   "source": [
    "data = !ls h5ad_data/\n",
    "data"
   ]
  },
  {
   "cell_type": "code",
   "execution_count": null,
   "id": "36d02ba0",
   "metadata": {},
   "outputs": [],
   "source": [
    "file_name = [x[:-5] for x in data]"
   ]
  },
  {
   "cell_type": "code",
   "execution_count": null,
   "id": "cae7d15a",
   "metadata": {},
   "outputs": [],
   "source": [
    "data_ad = [\"h5ad_data/\" + x for x in data]"
   ]
  },
  {
   "cell_type": "code",
   "execution_count": null,
   "id": "ef0a8e12",
   "metadata": {},
   "outputs": [],
   "source": [
    "import numpy as np\n",
    "import pandas as pd\n",
    "import scanpy as sc\n",
    "import scvi"
   ]
  },
  {
   "cell_type": "code",
   "execution_count": null,
   "id": "8b70f7d7",
   "metadata": {},
   "outputs": [],
   "source": [
    "for x in range(len(data)):\n",
    "    adata = sc.read_h5ad(data_ad[x])\n",
    "    sc.pp.filter_genes(adata, min_cells = 10)\n",
    "    sc.pp.highly_variable_genes(adata, n_top_genes = 2000, subset = True, flavor = 'seurat_v3')\n",
    "    scvi.model.SCVI.setup_anndata(adata)\n",
    "    vae = scvi.model.SCVI(adata)\n",
    "    vae.train()\n",
    "    #modified _model.py of solo referring to https://discourse.scverse.org/t/solo-from-scvi-model-throwing-attributeerror/1380\n",
    "    solo = scvi.external.SOLO.from_scvi_model(vae)\n",
    "    solo.train()\n",
    "    df = solo.predict()\n",
    "    df[\"prediction\"] = solo.predict(soft = False)\n",
    "    doublets = df[(df.prediction == 'doublet')]\n",
    "    \n",
    "    adata = sc.read_h5ad(data_ad[x])\n",
    "    adata.obs['doublet'] = adata.obs.index.isin(doublets.index)\n",
    "    adata = adata[~adata.obs.doublet]\n",
    "    \n",
    "    #Basic filtering\n",
    "    sc.pp.filter_cells(adata, min_genes=200)\n",
    "    sc.pp.filter_genes(adata, min_cells=3)\n",
    "    \n",
    "    adata.var['mt'] = adata.var_names.str.startswith('MT-')  # annotate the group of mitochondrial genes as 'mt'\n",
    "    sc.pp.calculate_qc_metrics(adata, qc_vars=['mt'], percent_top=None, log1p=False, inplace=True)\n",
    "    \n",
    "    adata = adata[adata.obs.pct_counts_mt < 20, :]\n",
    "    \n",
    "    adata.write_h5ad(f\"/Users/titai/Documents/Research_Projects/BIG-TCR/03_scRNA_integration_pseudo_time_analysis/preprocessed_h5ad_data/{file_name[x]}_preprocessed.h5ad\")"
   ]
  }
 ],
 "metadata": {
  "kernelspec": {
   "display_name": "Python 3 (ipykernel)",
   "language": "python",
   "name": "python3"
  },
  "language_info": {
   "codemirror_mode": {
    "name": "ipython",
    "version": 3
   },
   "file_extension": ".py",
   "mimetype": "text/x-python",
   "name": "python",
   "nbconvert_exporter": "python",
   "pygments_lexer": "ipython3",
   "version": "3.10.0"
  }
 },
 "nbformat": 4,
 "nbformat_minor": 5
}
