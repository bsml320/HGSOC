{
 "cells": [
  {
   "cell_type": "code",
   "execution_count": null,
   "id": "39792ade",
   "metadata": {},
   "outputs": [],
   "source": [
    "!conda info --envs"
   ]
  },
  {
   "cell_type": "code",
   "execution_count": null,
   "id": "f0e1273e",
   "metadata": {},
   "outputs": [],
   "source": [
    "import numpy as np\n",
    "import pandas as pd"
   ]
  },
  {
   "cell_type": "code",
   "execution_count": null,
   "id": "29ca5524",
   "metadata": {},
   "outputs": [],
   "source": [
    "import scanpy as sc"
   ]
  },
  {
   "cell_type": "code",
   "execution_count": null,
   "id": "45565d96",
   "metadata": {},
   "outputs": [],
   "source": [
    "import scvi"
   ]
  },
  {
   "cell_type": "code",
   "execution_count": null,
   "id": "0f679210",
   "metadata": {},
   "outputs": [],
   "source": [
    "import seaborn as sns"
   ]
  },
  {
   "cell_type": "code",
   "execution_count": null,
   "id": "cdf061b2",
   "metadata": {},
   "outputs": [],
   "source": [
    "!pwd"
   ]
  },
  {
   "cell_type": "code",
   "execution_count": null,
   "id": "0521eff9",
   "metadata": {},
   "outputs": [],
   "source": [
    "!ls"
   ]
  },
  {
   "cell_type": "code",
   "execution_count": null,
   "id": "f66d53ae",
   "metadata": {},
   "outputs": [],
   "source": [
    "out = []"
   ]
  },
  {
   "cell_type": "code",
   "execution_count": null,
   "id": "caf14000",
   "metadata": {},
   "outputs": [],
   "source": [
    "data = !ls preprocessed_h5ad_data_integrated/\n",
    "data_ad = [\"preprocessed_h5ad_data_integrated/\" + x for x in data]"
   ]
  },
  {
   "cell_type": "code",
   "execution_count": null,
   "id": "ab8f6d93",
   "metadata": {},
   "outputs": [],
   "source": [
    "len(data)"
   ]
  },
  {
   "cell_type": "code",
   "execution_count": null,
   "id": "4a25a72c",
   "metadata": {},
   "outputs": [],
   "source": [
    "#import preprocessed files\n",
    "for file in data_ad:\n",
    "    adata = sc.read_h5ad(file)\n",
    "    adata.var_names_make_unique()\n",
    "    out.append(adata)"
   ]
  },
  {
   "cell_type": "code",
   "execution_count": null,
   "id": "67cfb3be",
   "metadata": {},
   "outputs": [],
   "source": [
    "out"
   ]
  },
  {
   "cell_type": "code",
   "execution_count": null,
   "id": "4b3ff527",
   "metadata": {},
   "outputs": [],
   "source": [
    "adata = sc.concat(out, join=\"outer\")"
   ]
  },
  {
   "cell_type": "code",
   "execution_count": null,
   "id": "14831484",
   "metadata": {},
   "outputs": [],
   "source": [
    "adata"
   ]
  },
  {
   "cell_type": "code",
   "execution_count": null,
   "id": "55f21cd3",
   "metadata": {},
   "outputs": [],
   "source": [
    "adata.obs"
   ]
  },
  {
   "cell_type": "code",
   "execution_count": null,
   "id": "c0ba23f5",
   "metadata": {},
   "outputs": [],
   "source": [
    "obs = adata.obs\n",
    "obs.index = obs[\"sample_id\"]"
   ]
  },
  {
   "cell_type": "code",
   "execution_count": null,
   "id": "f1a5b043",
   "metadata": {},
   "outputs": [],
   "source": [
    "obs"
   ]
  },
  {
   "cell_type": "code",
   "execution_count": null,
   "id": "ab61fefc",
   "metadata": {},
   "outputs": [],
   "source": [
    "clinical = pd.read_csv(\"Data_Summary_30.csv\")"
   ]
  },
  {
   "cell_type": "code",
   "execution_count": null,
   "id": "28c91934",
   "metadata": {},
   "outputs": [],
   "source": [
    "clinical"
   ]
  },
  {
   "cell_type": "code",
   "execution_count": null,
   "id": "de8e8e12",
   "metadata": {},
   "outputs": [],
   "source": [
    "clinical.index = clinical[\"adata.obs.\"]"
   ]
  },
  {
   "cell_type": "code",
   "execution_count": null,
   "id": "50b2b5f8",
   "metadata": {},
   "outputs": [],
   "source": [
    "clinical"
   ]
  },
  {
   "cell_type": "code",
   "execution_count": null,
   "id": "ff23a72a",
   "metadata": {},
   "outputs": [],
   "source": [
    "concat = pd.concat([obs, clinical], axis=1).reindex(obs.index)"
   ]
  },
  {
   "cell_type": "code",
   "execution_count": null,
   "id": "f1b6abba",
   "metadata": {},
   "outputs": [],
   "source": [
    "concat"
   ]
  },
  {
   "cell_type": "code",
   "execution_count": null,
   "id": "ebc78b63",
   "metadata": {},
   "outputs": [],
   "source": [
    "concat.index = concat[\"cell_id\"]\n",
    "concat.index.name = None\n",
    "concat"
   ]
  },
  {
   "cell_type": "code",
   "execution_count": null,
   "id": "f5d92127",
   "metadata": {},
   "outputs": [],
   "source": [
    "adata.obs = concat"
   ]
  },
  {
   "cell_type": "code",
   "execution_count": null,
   "id": "82b478d7",
   "metadata": {},
   "outputs": [],
   "source": [
    "adata"
   ]
  },
  {
   "cell_type": "code",
   "execution_count": null,
   "id": "0ce4be8d",
   "metadata": {},
   "outputs": [],
   "source": [
    "sc.pp.filter_genes(adata, min_cells = 100)"
   ]
  },
  {
   "cell_type": "code",
   "execution_count": null,
   "id": "5a39c121",
   "metadata": {},
   "outputs": [],
   "source": [
    "adata"
   ]
  },
  {
   "cell_type": "code",
   "execution_count": null,
   "id": "876548dd",
   "metadata": {},
   "outputs": [],
   "source": [
    "adata.X"
   ]
  },
  {
   "cell_type": "code",
   "execution_count": null,
   "id": "769cf031",
   "metadata": {},
   "outputs": [],
   "source": [
    "adata.layers['counts'] = adata.X.copy()"
   ]
  },
  {
   "cell_type": "code",
   "execution_count": null,
   "id": "6a99f92c",
   "metadata": {},
   "outputs": [],
   "source": [
    "sc.pp.normalize_total(adata, target_sum = 1e4)\n",
    "sc.pp.log1p(adata)\n",
    "adata.raw = adata"
   ]
  },
  {
   "cell_type": "code",
   "execution_count": null,
   "id": "6594b6b7",
   "metadata": {},
   "outputs": [],
   "source": [
    "adata"
   ]
  },
  {
   "cell_type": "code",
   "execution_count": null,
   "id": "f8f7b5b0",
   "metadata": {},
   "outputs": [],
   "source": [
    "adata.obs.head()"
   ]
  },
  {
   "cell_type": "code",
   "execution_count": null,
   "id": "a6c8a726",
   "metadata": {},
   "outputs": [],
   "source": [
    "adata.obs.columns"
   ]
  },
  {
   "cell_type": "code",
   "execution_count": null,
   "id": "09eb21ea",
   "metadata": {},
   "outputs": [],
   "source": [
    "scvi.model.SCVI.setup_anndata(adata, layer = \"counts\",\n",
    "                             categorical_covariate_keys=[\"sample_id\", \"GSE_ID\"],\n",
    "                             continuous_covariate_keys=[\"pct_counts_mt\", \"total_counts\"])"
   ]
  },
  {
   "cell_type": "code",
   "execution_count": null,
   "id": "539f86b5",
   "metadata": {},
   "outputs": [],
   "source": [
    "model = scvi.model.SCVI(adata)"
   ]
  },
  {
   "cell_type": "code",
   "execution_count": null,
   "id": "47c61a5a",
   "metadata": {},
   "outputs": [],
   "source": [
    "model.train()"
   ]
  },
  {
   "cell_type": "code",
   "execution_count": null,
   "id": "78e5d3ee",
   "metadata": {},
   "outputs": [],
   "source": [
    "model.get_latent_representation()"
   ]
  },
  {
   "cell_type": "code",
   "execution_count": null,
   "id": "1c98b60e",
   "metadata": {},
   "outputs": [],
   "source": [
    "model.get_latent_representation().shape"
   ]
  },
  {
   "cell_type": "code",
   "execution_count": null,
   "id": "098d702e",
   "metadata": {},
   "outputs": [],
   "source": [
    "adata.obsm[\"X_scVI\"] = model.get_latent_representation()"
   ]
  },
  {
   "cell_type": "code",
   "execution_count": null,
   "id": "24ce5977",
   "metadata": {},
   "outputs": [],
   "source": [
    "model.get_normalized_expression(library_size = 1e4)"
   ]
  },
  {
   "cell_type": "code",
   "execution_count": null,
   "id": "cd416456",
   "metadata": {},
   "outputs": [],
   "source": [
    "adata.layers['scvi_normalized'] = model.get_normalized_expression(library_size = 1e4)"
   ]
  },
  {
   "cell_type": "code",
   "execution_count": null,
   "id": "8f786c44",
   "metadata": {},
   "outputs": [],
   "source": [
    "adata"
   ]
  },
  {
   "cell_type": "code",
   "execution_count": null,
   "id": "8f325883",
   "metadata": {},
   "outputs": [],
   "source": [
    "# save the data\n",
    "adata.write_h5ad(\"hgsoc_integrated_scvi_sampleID_GSEID.h5ad\")"
   ]
  },
  {
   "cell_type": "code",
   "execution_count": null,
   "id": "5b25b62d",
   "metadata": {},
   "outputs": [],
   "source": [
    "!ls"
   ]
  },
  {
   "cell_type": "code",
   "execution_count": null,
   "id": "543f99fb",
   "metadata": {},
   "outputs": [],
   "source": [
    "!pip install --quiet scvi-colab\n",
    "from scvi_colab import install\n",
    "\n",
    "install()"
   ]
  },
  {
   "cell_type": "code",
   "execution_count": null,
   "id": "facfa2be",
   "metadata": {},
   "outputs": [],
   "source": [
    "import gdown\n",
    "import matplotlib.pyplot as plt\n",
    "import pandas as pd\n",
    "import scanpy as sc\n",
    "import scvi\n",
    "import seaborn as sns\n",
    "from scvi.external import CellAssign"
   ]
  },
  {
   "cell_type": "code",
   "execution_count": null,
   "id": "4dbe75d6",
   "metadata": {},
   "outputs": [],
   "source": [
    "marker_gene_mat_hgsc = pd.read_csv(\"HGSC_celltype.csv\", index_col=0)"
   ]
  },
  {
   "cell_type": "code",
   "execution_count": null,
   "id": "f897792b",
   "metadata": {},
   "outputs": [],
   "source": [
    "lib_size = adata.X.sum(1)\n",
    "adata.obs[\"size_factor\"] = lib_size / np.mean(lib_size)"
   ]
  },
  {
   "cell_type": "code",
   "execution_count": null,
   "id": "a3b51b86",
   "metadata": {},
   "outputs": [],
   "source": [
    "bdata = adata[:, marker_gene_mat_hgsc.index].copy()"
   ]
  },
  {
   "cell_type": "code",
   "execution_count": null,
   "id": "1c1404b9",
   "metadata": {},
   "outputs": [],
   "source": [
    "scvi.external.CellAssign.setup_anndata(bdata, \"size_factor\")"
   ]
  },
  {
   "cell_type": "code",
   "execution_count": null,
   "id": "aa99bd9a",
   "metadata": {},
   "outputs": [],
   "source": [
    "model_hgsc = CellAssign(bdata, marker_gene_mat_hgsc)\n",
    "model_hgsc.train()"
   ]
  },
  {
   "cell_type": "code",
   "execution_count": null,
   "id": "d85a1a1f",
   "metadata": {},
   "outputs": [],
   "source": [
    "model_hgsc.history[\"elbo_validation\"].plot()"
   ]
  },
  {
   "cell_type": "code",
   "execution_count": null,
   "id": "c4263efe",
   "metadata": {},
   "outputs": [],
   "source": [
    "predictions_hgsc = model_hgsc.predict()"
   ]
  },
  {
   "cell_type": "code",
   "execution_count": null,
   "id": "f5d9fde3",
   "metadata": {},
   "outputs": [],
   "source": [
    "sns.clustermap(predictions_hgsc, cmap=\"viridis\")"
   ]
  },
  {
   "cell_type": "code",
   "execution_count": null,
   "id": "20f52ff7",
   "metadata": {},
   "outputs": [],
   "source": [
    "bdata.obs[\"scvi-tools predictions\"] = predictions_hgsc.idxmax(axis=1).values"
   ]
  },
  {
   "cell_type": "code",
   "execution_count": null,
   "id": "dd630d8b",
   "metadata": {},
   "outputs": [],
   "source": [
    "sc.pl.umap(\n",
    "    bdata,\n",
    "    color=[\"scvi-tools predictions\"],\n",
    "    ncols=1,\n",
    "    frameon=False,\n",
    ")"
   ]
  },
  {
   "cell_type": "code",
   "execution_count": null,
   "id": "4a5c459e",
   "metadata": {},
   "outputs": [],
   "source": []
  }
 ],
 "metadata": {
  "kernelspec": {
   "display_name": "Python 3 (ipykernel)",
   "language": "python",
   "name": "python3"
  },
  "language_info": {
   "codemirror_mode": {
    "name": "ipython",
    "version": 3
   },
   "file_extension": ".py",
   "mimetype": "text/x-python",
   "name": "python",
   "nbconvert_exporter": "python",
   "pygments_lexer": "ipython3",
   "version": "3.10.0"
  }
 },
 "nbformat": 4,
 "nbformat_minor": 5
}
